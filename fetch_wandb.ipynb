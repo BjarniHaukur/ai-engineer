{
 "cells": [
  {
   "cell_type": "code",
   "execution_count": 7,
   "metadata": {},
   "outputs": [
    {
     "name": "stdout",
     "output_type": "stream",
     "text": [
      "Summary:  {'_runtime': 68.111513, '_step': 1, '_timestamp': 1727463532.147154, '_wandb': {'runtime': 68}, 'epoch': 1, 'train_acc': 0.9840909090909092, 'train_loss': 0.05239649094034766, 'val_acc': 0.9874, 'val_loss': 0.045319616016519224}\n",
      "Config:  {'epochs': 2, 'learning_rate': 0.005, 'architecture_description': 'Conv(1, 32, 3x3).ReLU().MaxPool(2x2) -> Conv(32, 64, 3x3).ReLU().MaxPool(2x2) -> FC(64*7*7, 128).ReLU() -> FC(128, 10)'}\n",
      "History:     _step  val_acc  train_acc  train_loss   _runtime  epoch    _timestamp  \\\n",
      "0      0   0.9800   0.955145    0.143946  39.689857      0  1.727464e+09   \n",
      "1      1   0.9874   0.984091    0.052396  68.111513      1  1.727464e+09   \n",
      "\n",
      "   val_loss  \n",
      "0  0.062559  \n",
      "1  0.045320  \n"
     ]
    }
   ],
   "source": [
    "import wandb\n",
    "\n",
    "# Initialize a WandB API object\n",
    "api = wandb.Api()\n",
    "\n",
    "run_id = \"46arnx92\"\n",
    "\n",
    "# Specify the path to the run (entity/project/run_id)\n",
    "run_path = f\"bjarnih/ai-engineer/runs/{run_id}\"  # e.g., \"user/project/run-id\"\n",
    "run = api.run(run_path)\n",
    "\n",
    "# Fetch the summary (final values of metrics)\n",
    "summary = run.summary\n",
    "\n",
    "# Fetch the config (hyperparameters, etc.)\n",
    "config = run.config\n",
    "\n",
    "# Fetch the logged history (metrics, losses, etc.)\n",
    "history = run.history()\n",
    "\n",
    "# Print or manipulate the fetched data\n",
    "print(\"Summary: \", summary)\n",
    "print(\"Config: \", config)\n",
    "print(\"History: \", history)\n"
   ]
  },
  {
   "cell_type": "code",
   "execution_count": 8,
   "metadata": {},
   "outputs": [
    {
     "data": {
      "text/plain": [
       "0.9874"
      ]
     },
     "execution_count": 8,
     "metadata": {},
     "output_type": "execute_result"
    }
   ],
   "source": [
    "summary['val_loss']\n",
    "summary['val_acc']"
   ]
  },
  {
   "cell_type": "code",
   "execution_count": null,
   "metadata": {},
   "outputs": [],
   "source": []
  }
 ],
 "metadata": {
  "kernelspec": {
   "display_name": ".venv",
   "language": "python",
   "name": "python3"
  },
  "language_info": {
   "codemirror_mode": {
    "name": "ipython",
    "version": 3
   },
   "file_extension": ".py",
   "mimetype": "text/x-python",
   "name": "python",
   "nbconvert_exporter": "python",
   "pygments_lexer": "ipython3",
   "version": "3.12.6"
  }
 },
 "nbformat": 4,
 "nbformat_minor": 2
}
